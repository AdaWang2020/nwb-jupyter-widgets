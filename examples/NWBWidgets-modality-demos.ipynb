{
 "cells": [
  {
   "cell_type": "markdown",
   "metadata": {},
   "source": [
    "# NWBWidgets Demos\n",
    "\n",
    "This notebook demonstrates now to run NWBWidgets on an NWB file. It is the same pattern for any NWB file. To run, download an example session from any of these datasets and adjust the paths to the local path on your computer.\n",
    "\n",
    "* Extracellular electrophysiology\n",
    "\n",
    "    * Layer-Specific Physiological Features and Interlaminar Interactions in the Primary Visual Cortex of the Mouse. Yuta Senzai, Antonio Fernandez-Ruiz, Gyorgy Buzsaki. Available on DANDI [here](https://dandiarchive.org/dandiset/000003/draft).\n",
    "    * A NWB-based dataset and processing pipeline of human single-neuron activity during a declarative memory task. Nand Chandravadia, Ueli Rutishauser. Available on DANDI [here](https://dandiarchive.org/dandiset/000004/draft).\n",
    "\n",
    "* Optical physiology\n",
    "    * Excitatory and inhibitory subnetworks are equally selective during decision-making and emerge simultaneously during learning, Farzaneh Najafi and Anne Churchland. Available on DANDI [here](https://dandiarchive.org/dandiset/000016/draft).\n",
    "\n",
    "* Intracellular electrophysiology\n",
    "    * Demonstrated using data from the Blue Brain Project, BBP & LNMC, EPFL. Dataset available upon request."
   ]
  },
  {
   "cell_type": "code",
   "execution_count": null,
   "metadata": {},
   "outputs": [],
   "source": [
    "from pynwb import NWBHDF5IO\n",
    "from nwbwidgets import nwb2widget\n",
    "\n",
    "# Buzsaki (ecephys) (dandiset 000003)\n",
    "fpath = 'path/to/YutaMouse41-150831.nwb'\n",
    "\n",
    "# Rutishauser (ecephys) (dandiset 000004)\n",
    "#fpath = 'path/to/sub-P10HM_ses-20060901.nwb'\n",
    "\n",
    "# Anne Churchland (planar calcium imaging) (dandiset 000016)\n",
    "#fpath = 'path/to/mouse1_fni16_150817_001_ch2-PnevPanResults-170808-190057.nwb'\n",
    "\n",
    "# Blue Brain Project, BBP & LNMC, EPFL (intracellular electrophysiology)\n",
    "#fpath = 'path/to/001_140709EXP_A1_ndx_v2.nwb'\n",
    "\n",
    "nwb = NWBHDF5IO(fpath,'r').read()"
   ]
  },
  {
   "cell_type": "code",
   "execution_count": null,
   "metadata": {},
   "outputs": [],
   "source": [
    "nwb2widget(nwb)"
   ]
  }
 ],
 "metadata": {
  "kernelspec": {
   "display_name": "Python 3",
   "language": "python",
   "name": "python3"
  },
  "language_info": {
   "codemirror_mode": {
    "name": "ipython",
    "version": 3
   },
   "file_extension": ".py",
   "mimetype": "text/x-python",
   "name": "python",
   "nbconvert_exporter": "python",
   "pygments_lexer": "ipython3",
   "version": "3.7.4"
  }
 },
 "nbformat": 4,
 "nbformat_minor": 2
}
