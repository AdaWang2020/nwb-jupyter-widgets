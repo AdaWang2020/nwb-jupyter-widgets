{
 "cells": [
  {
   "cell_type": "markdown",
   "metadata": {},
   "source": [
    "# NWBWidgets Demos\n",
    "\n",
    "This notebook demonstrates now to run NWBWidgets on an NWB file. It is the same pattern for any NWB file. To run, download an example session from any of these datasets and adjust the paths to the local path on your computer.\n",
    "\n",
    "### Calium imaging\n",
    "#### A Map of Anticipatory Activity in Mouse Motor Cortex, Chen, Svoboda Available on DANDI at [https://dandiarchive.org/dandiset/000015/draft](https://dandiarchive.org/dandiset/000015/draft).\n",
    "\n",
    "### Intracellular electrophysiology\n",
    "#### Demonstrated using data from the Blue Brain Project, BBP & LNMC, EPFL. Dataset available on DANDI at [https://dandiarchive.org/dandiset/000025/draft](https://dandiarchive.org/dandiset/000025/draft).\n",
    "\n",
    "### Extracellular electrophysiology\n",
    "#### Allen Institute Neuropixel data releasea, available on DANDI at [https://dandiarchive.org/dandiset/000021/draft](https://dandiarchive.org/dandiset/000021/draft)."
   ]
  },
  {
   "cell_type": "code",
   "execution_count": null,
   "metadata": {},
   "outputs": [],
   "source": [
    "from pynwb import NWBHDF5IO\n",
    "from nwbwidgets import nwb2widget\n",
    "\n",
    "\n",
    "# calcium imaging\n",
    "#fpath = '../ophys_example.nwb'\n",
    "#nwb = NWBHDF5IO(fpath, 'r').read()\n",
    "\n",
    "# Blue Brain Project, BBP & LNMC, EPFL (intracellular electrophysiology)\n",
    "#import ndx_icephys_meta\n",
    "#fpath = '../icephys_example.nwb'\n",
    "#nwb = NWBHDF5IO(fpath, 'r').read()\n",
    "\n",
    "# Allen Institute Neuropixel data release (dandiset )\n",
    "#fpath = '../ecephys_example.nwb'\n",
    "#from nwbwidgets.allen import load_allen_widgets\n",
    "#load_allen_widgets()\n",
    "#nwb = NWBHDF5IO(fpath, 'r', load_namespaces=True).read()"
   ]
  },
  {
   "cell_type": "code",
   "execution_count": null,
   "metadata": {
    "scrolled": false
   },
   "outputs": [],
   "source": [
    "nwb2widget(nwb)"
   ]
  }
 ],
 "metadata": {
  "kernelspec": {
   "display_name": "Python 3",
   "language": "python",
   "name": "python3"
  },
  "language_info": {
   "codemirror_mode": {
    "name": "ipython",
    "version": 3
   },
   "file_extension": ".py",
   "mimetype": "text/x-python",
   "name": "python",
   "nbconvert_exporter": "python",
   "pygments_lexer": "ipython3",
   "version": "3.7.4"
  }
 },
 "nbformat": 4,
 "nbformat_minor": 2
}
