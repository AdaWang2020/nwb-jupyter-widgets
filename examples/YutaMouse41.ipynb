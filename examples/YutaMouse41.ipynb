{
 "cells": [
  {
   "cell_type": "code",
   "execution_count": 1,
   "metadata": {},
   "outputs": [
    {
     "data": {
      "application/javascript": [
       "window.genUID = function() {\n",
       "    return 'xxxxxxxx-xxxx-4xxx-yxxx-xxxxxxxxxxxx'.replace(/[xy]/g, function(c) {\n",
       "        var r = Math.random()*16|0, v = c == 'x' ? r : (r&0x3|0x8);\n",
       "        return v.toString(16);\n",
       "    });\n",
       "};\n",
       "\n",
       "\n",
       "define('graphWidget', [\"@jupyter-widgets/base\"], function (widget) {\n",
       "\n",
       "    var GraphView = widget.DOMWidgetView.extend({\n",
       "        render: function(){\n",
       "            var that = this;\n",
       "\n",
       "            var graphId = window.genUID();\n",
       "            var loadingId = 'loading-'+graphId;\n",
       "\n",
       "\n",
       "            var _graph_url = that.model.get('_graph_url');\n",
       "\n",
       "            // variable plotlyDomain in the case of enterprise\n",
       "            var url_parts = _graph_url.split('/');\n",
       "            var plotlyDomain = url_parts[0] + '//' + url_parts[2];\n",
       "\n",
       "            if(!('plotlyDomains' in window)){\n",
       "                window.plotlyDomains = {};\n",
       "            }\n",
       "            window.plotlyDomains[graphId] = plotlyDomain;\n",
       "\n",
       "            // Place IFrame in output cell div `$el`\n",
       "            that.$el.css('width', '100%');\n",
       "            that.$graph = $(['<iframe id=\"'+graphId+'\"',\n",
       "                             'src=\"'+_graph_url+'.embed\"',\n",
       "                             'seamless',\n",
       "                             'style=\"border: none;\"',\n",
       "                             'width=\"100%\"',\n",
       "                             'height=\"600\">',\n",
       "                             '</iframe>'].join(' '));\n",
       "            that.$graph.appendTo(that.$el);\n",
       "\n",
       "            that.$loading = $('<div id=\"'+loadingId+'\">Initializing...</div>')\n",
       "                            .appendTo(that.$el);\n",
       "\n",
       "            // for some reason the 'width' is being changed in IPython 3.0.0\n",
       "            // for the containing `div` element. There's a flicker here, but\n",
       "            // I was unable to fix it otherwise.\n",
       "            setTimeout(function ()  {\n",
       "                if (IPYTHON_VERSION === '3') {\n",
       "                    $('#' + graphId)[0].parentElement.style.width = '100%';\n",
       "                }\n",
       "            }, 500);\n",
       "\n",
       "            // initialize communication with the iframe\n",
       "            if(!('pingers' in window)){\n",
       "                window.pingers = {};\n",
       "            }\n",
       "\n",
       "            window.pingers[graphId] = setInterval(function() {\n",
       "                that.graphContentWindow = $('#'+graphId)[0].contentWindow;\n",
       "                that.graphContentWindow.postMessage({task: 'ping'}, plotlyDomain);\n",
       "            }, 200);\n",
       "\n",
       "            // Assign a message listener to the 'message' events\n",
       "            // from iframe's postMessage protocol.\n",
       "            // Filter the messages by iframe src so that the right message\n",
       "            // gets passed to the right widget\n",
       "            if(!('messageListeners' in window)){\n",
       "                 window.messageListeners = {};\n",
       "            }\n",
       "\n",
       "            window.messageListeners[graphId] = function(e) {\n",
       "                if(_graph_url.indexOf(e.origin)>-1) {\n",
       "                    var frame = document.getElementById(graphId);\n",
       "\n",
       "                    if(frame === null){\n",
       "                        // frame doesn't exist in the dom anymore, clean up it's old event listener\n",
       "                        window.removeEventListener('message', window.messageListeners[graphId]);\n",
       "                        clearInterval(window.pingers[graphId]);\n",
       "                    } else if(frame.contentWindow === e.source) {\n",
       "                        // TODO: Stop event propagation, so each frame doesn't listen and filter\n",
       "                        var frameContentWindow = $('#'+graphId)[0].contentWindow;\n",
       "                        var message = e.data;\n",
       "\n",
       "                        if('pong' in message && message.pong) {\n",
       "                            $('#loading-'+graphId).hide();\n",
       "                            clearInterval(window.pingers[graphId]);\n",
       "                            that.send({event: 'pong', graphId: graphId});\n",
       "                        } else if (message.type==='hover' ||\n",
       "                                   message.type==='zoom'  ||\n",
       "                                   message.type==='click' ||\n",
       "                                   message.type==='unhover') {\n",
       "\n",
       "                            // click and hover events contain all of the data in the traces,\n",
       "                            // which can be a very large object and may take a ton of time\n",
       "                            // to pass to the python backend. Strip out the data, and require\n",
       "                            // the user to call get_figure if they need trace information\n",
       "                            if(message.type !== 'zoom') {\n",
       "                                for(var i in message.points) {\n",
       "                                    delete message.points[i].data;\n",
       "                                    delete message.points[i].fullData;\n",
       "                                }\n",
       "                            }\n",
       "                            that.send({event: message.type, message: message, graphId: graphId});\n",
       "                        } else if (message.task === 'getAttributes') {\n",
       "                            that.send({event: 'getAttributes', response: message.response});\n",
       "                        }\n",
       "                    }\n",
       "                }\n",
       "            };\n",
       "\n",
       "            window.removeEventListener('message', window.messageListeners[graphId]);\n",
       "            window.addEventListener('message', window.messageListeners[graphId]);\n",
       "\n",
       "        },\n",
       "\n",
       "        update: function() {\n",
       "            // Listen for messages from the graph widget in python\n",
       "            var jmessage = this.model.get('_message');\n",
       "            var message = JSON.parse(jmessage);\n",
       "\n",
       "            // check for duplicate messages\n",
       "            if(!('messageIds' in window)){\n",
       "                window.messageIds = {};\n",
       "            }\n",
       "\n",
       "            if(!(message.uid in window.messageIds)){\n",
       "                // message hasn't been received yet, do stuff\n",
       "                window.messageIds[message.uid] = true;\n",
       "\n",
       "                if (message.fadeTo) {\n",
       "                    this.fadeTo(message);\n",
       "                } else {\n",
       "                    var plot = $('#' + message.graphId)[0].contentWindow;\n",
       "                    plot.postMessage(message, window.plotlyDomains[message.graphId]);\n",
       "                }\n",
       "            }\n",
       "\n",
       "            return GraphView.__super__.update.apply(this);\n",
       "        },\n",
       "\n",
       "        /**\n",
       "         * Wrapper for jquery's `fadeTo` function.\n",
       "         *\n",
       "         * @param message Contains the id we need to find the element.\n",
       "         */\n",
       "        fadeTo: function (message) {\n",
       "            var plot = $('#' + message.graphId);\n",
       "            plot.fadeTo(message.duration, message.opacity);\n",
       "        }\n",
       "    });\n",
       "\n",
       "    // Register the GraphView with the widget manager.\n",
       "    return {\n",
       "        GraphView: GraphView\n",
       "    }\n",
       "\n",
       "});\n",
       "\n",
       "//@ sourceURL=graphWidget.js\n"
      ],
      "text/plain": [
       "<IPython.core.display.Javascript object>"
      ]
     },
     "metadata": {},
     "output_type": "display_data"
    }
   ],
   "source": [
    "from pynwb import NWBHDF5IO\n",
    "from scipy.signal import stft\n",
    "import matplotlib.pyplot as plt\n",
    "import numpy as np\n",
    "from itkwidgets import view\n",
    "import ipywidgets as widgets\n",
    "from ipywidgets import Layout\n",
    "import pynwb\n",
    "import itk\n",
    "import plotly.graph_objs as go\n",
    "import plotly.widgets\n",
    "import plotly.plotly as py\n",
    "from plotly.offline import init_notebook_mode\n",
    "#init_notebook_mode(connected=True)\n",
    "import bqplot.pyplot as pybqplt"
   ]
  },
  {
   "cell_type": "code",
   "execution_count": 2,
   "metadata": {},
   "outputs": [],
   "source": [
    "file_name = 'YutaMouse41-150903.nwb'"
   ]
  },
  {
   "cell_type": "code",
   "execution_count": 3,
   "metadata": {},
   "outputs": [],
   "source": [
    "nwb_io = NWBHDF5IO(file_name, mode='r')\n",
    "nwb = nwb_io.read()"
   ]
  },
  {
   "cell_type": "code",
   "execution_count": 29,
   "metadata": {},
   "outputs": [],
   "source": [
    "def _widget_for_nwb_type(node):\n",
    "    if isinstance(node, pynwb.ecephys.LFP):\n",
    "        lfp = node.electrical_series['lfp']\n",
    "        children = [widgets.HTML('Rendering...'), widgets.HTML('Rendering...')]\n",
    "        def on_selected_index(change):\n",
    "            if change.new == 1 and isinstance(change.owner.children[1], widgets.HTML):\n",
    "                slider = widgets.IntSlider(value=0, min=0, max=lfp.data.shape[1]-1, description='Channel', orientation='horizontal')\n",
    "                def create_spectrogram(channel=0):\n",
    "                    f,t,Zxx = stft(lfp.data[:,channel],lfp.rate, nperseg=128)\n",
    "                    spect = np.log(np.abs(Zxx))\n",
    "                    image = itk.GetImageFromArray(spect)\n",
    "                    image.SetSpacing([(f[1]-f[0]), (t[1]-t[0])*1e-1])\n",
    "                    direction = image.GetDirection()\n",
    "                    vnl_matrix = direction.GetVnlMatrix()\n",
    "                    vnl_matrix.set(0, 0, 0.0)\n",
    "                    vnl_matrix.set(0, 1, -1.0)\n",
    "                    vnl_matrix.set(1, 0, 1.0)\n",
    "                    vnl_matrix.set(1, 1, 0.0)\n",
    "                    return image\n",
    "                spectrogram = create_spectrogram(0)\n",
    "                viewer = view(spectrogram, ui_collapsed=True, select_roi=True, annotations=False)\n",
    "                spect_vbox_children = [slider, viewer]\n",
    "                spect_vbox = widgets.VBox(spect_vbox_children)\n",
    "                children[1] = spect_vbox\n",
    "                change.owner.children = children\n",
    "                channel_to_spectrogram = {0: spectrogram}\n",
    "                def on_change_channel(change):\n",
    "                    channel = change.new\n",
    "                    if channel not in channel_to_spectrogram:\n",
    "                        channel_to_spectrogram[channel] = create_spectrogram(channel)\n",
    "                    viewer.image = channel_to_spectrogram[channel]\n",
    "                slider.observe(on_change_channel, names='value')\n",
    "            \n",
    "        vbox = []\n",
    "        for key, value in lfp.fields.items():\n",
    "            vbox.append(widgets.Text(value=repr(value), description=key, disabled=True))\n",
    "        children[0] = widgets.VBox(vbox)\n",
    "            \n",
    "        tab_nest = widgets.Tab()\n",
    "        # Use Rendering... as a placeholder\n",
    "        tab_nest.children = children\n",
    "        tab_nest.set_title(0, 'Fields')\n",
    "        tab_nest.set_title(1, 'Spectrogram')\n",
    "        tab_nest.observe(on_selected_index, names='selected_index')\n",
    "        return tab_nest\n",
    "    elif isinstance(node, pynwb.core.LabelledDict):\n",
    "        children = []\n",
    "        for key in node:\n",
    "            if isinstance(node[key], pynwb.ecephys.LFP):\n",
    "                children.append((key, _widget_for_nwb_type(node[key])))\n",
    "            if isinstance(node[key], pynwb.base.ProcessingModule):\n",
    "                children.append((key, _widget_for_nwb_type(node[key].data_interfaces)))\n",
    "        accordion = widgets.Accordion(children=[widget for (key, widget) in children], selected_index=None)\n",
    "        for ii, (key, widget) in enumerate(children):\n",
    "            if hasattr(node[key], 'description'):\n",
    "                accordion.set_title(ii, key + ': ' + node[key].description)\n",
    "            else:\n",
    "                accordion.set_title(ii, key)\n",
    "        return accordion\n",
    "    else:\n",
    "        raise TypeError('Unknown nwb type')\n",
    "    \n",
    "\n",
    "def nwb_widget(nwb):\n",
    "    # List of objects to display\n",
    "    vbox = []\n",
    "    \n",
    "    children = {}\n",
    "    datasets = []\n",
    "    \n",
    "    widget = _widget_for_nwb_type(nwb.modules)\n",
    "    vbox.append(widget)\n",
    "        \n",
    "    return widgets.VBox(vbox)"
   ]
  },
  {
   "cell_type": "code",
   "execution_count": 30,
   "metadata": {},
   "outputs": [
    {
     "data": {
      "application/vnd.jupyter.widget-view+json": {
       "model_id": "d812b69c6de942c88c63c7c22e1cbd21",
       "version_major": 2,
       "version_minor": 0
      },
      "text/plain": [
       "VBox(children=(Accordion(children=(Accordion(selected_index=None), Accordion(children=(Tab(children=(VBox(chil…"
      ]
     },
     "metadata": {},
     "output_type": "display_data"
    }
   ],
   "source": [
    "nwb_widget(nwb)"
   ]
  },
  {
   "cell_type": "code",
   "execution_count": 266,
   "metadata": {},
   "outputs": [
    {
     "data": {
      "application/vnd.jupyter.widget-view+json": {
       "model_id": "017afe8eb85746658f659e540742d955",
       "version_major": 2,
       "version_minor": 0
      },
      "text/plain": [
       "FigureWidget({\n",
       "    'data': [{'name': 'oaeu aoeu',\n",
       "              'type': 'scattergl',\n",
       "              'uid': '80f…"
      ]
     },
     "metadata": {},
     "output_type": "display_data"
    }
   ],
   "source": [
    "fig = go.FigureWidget()\n",
    "trace = go.Scattergl(x=np.arange(10), y=np.arange(10), name='oaeu aoeu')\n",
    "fig.add_trace(trace)\n",
    "fig"
   ]
  },
  {
   "cell_type": "code",
   "execution_count": 66,
   "metadata": {},
   "outputs": [
    {
     "name": "stdout",
     "output_type": "stream",
     "text": [
      "dict_values([\n",
      "behavior <class 'pynwb.base.ProcessingModule'>\n",
      "Fields:\n",
      "  data_interfaces: { EightMazePosition_position <class 'pynwb.behavior.Position'>,  OpenFieldPosition_ExtraLarge_position <class 'pynwb.behavior.Position'>,  OpenFieldPosition_New_Curtain_position <class 'pynwb.behavior.Position'>,  OpenFieldPosition_New_position <class 'pynwb.behavior.Position'>,  OpenFieldPosition_Old_Curtain_position <class 'pynwb.behavior.Position'>,  OpenFieldPosition_Old_position <class 'pynwb.behavior.Position'>,  OpenFieldPosition_Oldlast_position <class 'pynwb.behavior.Position'>,  states <class 'pynwb.epoch.TimeIntervals'> }\n",
      "  description: contains processed behavioral data\n",
      ", \n",
      "ecephys <class 'pynwb.base.ProcessingModule'>\n",
      "Fields:\n",
      "  data_interfaces: { LFP <class 'pynwb.ecephys.LFP'>,  LFPDecompositionSeries <class 'pynwb.misc.DecompositionSeries'> }\n",
      "  description: intermediate data from extracellular electrophysiology recordings, e.g., LFP\n",
      "])\n"
     ]
    }
   ],
   "source": [
    "print(nwb.modules.values())"
   ]
  },
  {
   "cell_type": "code",
   "execution_count": 247,
   "metadata": {},
   "outputs": [
    {
     "data": {
      "text/plain": [
       "'Seconds'"
      ]
     },
     "execution_count": 247,
     "metadata": {},
     "output_type": "execute_result"
    }
   ],
   "source": [
    "nwb.modules['ecephys'].data_interfaces['LFP'].electrical_series['lfp'].fields['starting_time_unit']"
   ]
  },
  {
   "cell_type": "code",
   "execution_count": 4,
   "metadata": {},
   "outputs": [],
   "source": [
    "lfp = nwb.modules['ecephys'].data_interfaces['LFP'].electrical_series['lfp']"
   ]
  },
  {
   "cell_type": "code",
   "execution_count": null,
   "metadata": {},
   "outputs": [],
   "source": [
    "fig = plt.figure()\n",
    "plt.plot(lfp.data[:,0])\n",
    "fig"
   ]
  },
  {
   "cell_type": "code",
   "execution_count": 202,
   "metadata": {},
   "outputs": [],
   "source": [
    "tab = widgets.Tab()"
   ]
  },
  {
   "cell_type": "code",
   "execution_count": null,
   "metadata": {},
   "outputs": [],
   "source": [
    "tab.se"
   ]
  }
 ],
 "metadata": {
  "kernelspec": {
   "display_name": "Python 3",
   "language": "python",
   "name": "python3"
  },
  "language_info": {
   "codemirror_mode": {
    "name": "ipython",
    "version": 3
   },
   "file_extension": ".py",
   "mimetype": "text/x-python",
   "name": "python",
   "nbconvert_exporter": "python",
   "pygments_lexer": "ipython3",
   "version": "3.6.7"
  }
 },
 "nbformat": 4,
 "nbformat_minor": 2
}
