{
 "cells": [
  {
   "cell_type": "code",
   "execution_count": 4,
   "metadata": {},
   "outputs": [],
   "source": [
    "from nwbwidgets import nwb2widget\n",
    "import nwbwidgets\n",
    "from pynwb import NWBHDF5IO\n",
    "import pynwb\n",
    "\n",
    "import pandas as pd\n",
    "import numpy as np\n",
    "\n",
    "from collections import OrderedDict"
   ]
  },
  {
   "cell_type": "code",
   "execution_count": 9,
   "metadata": {},
   "outputs": [],
   "source": [
    "from ipywidgets import widgets\n",
    "from ipywidgets import interactive\n",
    "\n",
    "from IPython import display\n",
    "\n",
    "\n",
    "def show_dynamic_table(node, **kwargs):\n",
    "    \n",
    "    df = node.to_dataframe(exclude=set(['timeseries', 'timeseries_index']))\n",
    "    \n",
    "    def view(rng):\n",
    "        return display.display(df.loc[rng[0]:rng[1], :])\n",
    "\n",
    "    slider = widgets.IntRangeSlider(\n",
    "        value=[0, 10],\n",
    "        min=df.index.values[0],\n",
    "        max=df.index.values[-1],\n",
    "        step=1,\n",
    "        description='Foo',\n",
    "        orientation='horizontal'\n",
    "    )\n",
    "    \n",
    "    return interactive(view, rng=slider)\n",
    "\n",
    "\n",
    "vis_spec = OrderedDict({\n",
    "    pynwb.misc.AnnotationSeries: OrderedDict({\n",
    "        'text': nwbwidgets.view.show_text_fields,\n",
    "        'times': nwbwidgets.misc.show_annotations}),\n",
    "    pynwb.core.LabelledDict: nwbwidgets.view.dict2accordion,\n",
    "    pynwb.ProcessingModule: lambda x: nwbwidgets.nwb2widget(x.data_interfaces),\n",
    "    pynwb.core.DynamicTable: show_dynamic_table,\n",
    "    pynwb.ecephys.LFP: nwbwidgets.ecephys.show_lfp,\n",
    "    pynwb.behavior.Position: nwbwidgets.behavior.show_position,\n",
    "    pynwb.behavior.SpatialSeries: nwbwidgets.behavior.show_spatial_series,\n",
    "    pynwb.TimeSeries: nwbwidgets.base.show_timeseries,\n",
    "    pynwb.core.NWBBaseType: nwbwidgets.base.show_neurodata_base\n",
    "})\n"
   ]
  },
  {
   "cell_type": "code",
   "execution_count": 11,
   "metadata": {
    "scrolled": false
   },
   "outputs": [
    {
     "data": {
      "application/vnd.jupyter.widget-view+json": {
       "model_id": "7afaf5fc5a3c43d89c60c75c3f6581f6",
       "version_major": 2,
       "version_minor": 0
      },
      "text/plain": [
       "VBox(children=(Accordion(children=(Accordion(children=(HTML(value='Rendering...'), HTML(value='Rendering...'))…"
      ]
     },
     "metadata": {},
     "output_type": "display_data"
    }
   ],
   "source": [
    "path = 'ecephys_session_785402239.nwb'\n",
    "\n",
    "io = NWBHDF5IO(path, 'r')\n",
    "nwbfile = io.read()\n",
    "\n",
    "nwbwidgets.nwb2widget(nwbfile, vis_spec)"
   ]
  },
  {
   "cell_type": "code",
   "execution_count": null,
   "metadata": {},
   "outputs": [],
   "source": [
    "io.close()"
   ]
  }
 ],
 "metadata": {
  "kernelspec": {
   "display_name": "py37",
   "language": "python",
   "name": "py37"
  },
  "language_info": {
   "codemirror_mode": {
    "name": "ipython",
    "version": 3
   },
   "file_extension": ".py",
   "mimetype": "text/x-python",
   "name": "python",
   "nbconvert_exporter": "python",
   "pygments_lexer": "ipython3",
   "version": "3.7.3"
  }
 },
 "nbformat": 4,
 "nbformat_minor": 2
}
